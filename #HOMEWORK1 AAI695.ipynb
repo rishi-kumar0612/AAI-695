{
 "cells": [
  {
   "cell_type": "code",
   "execution_count": 1,
   "id": "df15f28e",
   "metadata": {},
   "outputs": [
    {
     "data": {
      "text/plain": [
       "[<matplotlib.lines.Line2D at 0x2044d28efa0>]"
      ]
     },
     "execution_count": 1,
     "metadata": {},
     "output_type": "execute_result"
    },
    {
     "data": {
      "image/png": "[encoded data removed]",
      "text/plain": [
       "<Figure size 432x288 with 1 Axes>"
      ]
     },
     "metadata": {},
     "output_type": "display_data"
    }
   ],
   "source": [
    "\"\"\"\" QUESTION #4 Change variable number_of_samples to 40, 30, 20, 10 respectively, re-ran the algorithm and plot \n",
    "the polynomials with the m found in 2). Discuss the impact of the number of samples to the \n",
    "accuracy of the returned parameters. [You need to plot a figure like in 1) for EACH choice of \n",
    "number_of_samples.]  \"\"\"\n",
    "\n",
    "import matplotlib.pyplot as plt \n",
    "plt.style.use('seaborn-whitegrid') \n",
    "import numpy as np \n",
    "noise_scale = 100 \n",
    "number_of_samples = 50 \n",
    "x =  25*(np.random.rand(number_of_samples, 1) - 0.5) \n",
    "y = 5 * x + 15 * x**2 + 2 * x**3 + noise_scale*np.random.randn(number_of_samples, 1) \n",
    "plt.plot(x,y,'ro') "
   ]
  },
  {
   "cell_type": "code",
   "execution_count": 5,
   "id": "c07db976",
   "metadata": {
    "scrolled": true
   },
   "outputs": [
    {
     "data": {
      "text/plain": [
       "<function matplotlib.pyplot.show(close=None, block=None)>"
      ]
     },
     "execution_count": 5,
     "metadata": {},
     "output_type": "execute_result"
    },
    {
     "data": {
      "image/png": "[encoded data removed]",
      "text/plain": [
       "<Figure size 432x288 with 1 Axes>"
      ]
     },
     "metadata": {},
     "output_type": "display_data"
    }
   ],
   "source": [
    "\"\"\"\" QUESTION #1 Please plot the noisy data and the polynomial you found (in the same figure). You can use any \n",
    "value of m selected from 2, 3, 4, 5, 6.\"\"\"\n",
    "\n",
    "a=x.ravel()# to make flattened array\n",
    "b=y.ravel()\n",
    "c=np.polyfit(a,b,2)\n",
    "fit=np.poly1d(c)\n",
    "plt.plot(x,y,'ro')\n",
    "plt.plot(x,fit(a),'bo', label= 'm= 2')\n",
    "plt.legend()\n",
    "plt.show\n",
    "\n"
   ]
  },
  {
   "cell_type": "code",
   "execution_count": 6,
   "id": "109d03a7",
   "metadata": {},
   "outputs": [
    {
     "ename": "TypeError",
     "evalue": "expected 1D vector for x",
     "output_type": "error",
     "traceback": [
      "\u001b[1;31m---------------------------------------------------------------------------\u001b[0m",
      "\u001b[1;31mTypeError\u001b[0m                                 Traceback (most recent call last)",
      "Input \u001b[1;32mIn [6]\u001b[0m, in \u001b[0;36m<cell line: 6>\u001b[1;34m()\u001b[0m\n\u001b[0;32m      5\u001b[0m c\u001b[38;5;241m=\u001b[39m[]\n\u001b[0;32m      6\u001b[0m \u001b[38;5;28;01mfor\u001b[39;00m i \u001b[38;5;129;01min\u001b[39;00m [\u001b[38;5;241m1\u001b[39m,\u001b[38;5;241m2\u001b[39m,\u001b[38;5;241m3\u001b[39m,\u001b[38;5;241m4\u001b[39m,\u001b[38;5;241m5\u001b[39m,\u001b[38;5;241m6\u001b[39m,\u001b[38;5;241m7\u001b[39m,\u001b[38;5;241m8\u001b[39m]:\n\u001b[1;32m----> 7\u001b[0m     d\u001b[38;5;241m=\u001b[39m\u001b[43mnp\u001b[49m\u001b[38;5;241;43m.\u001b[39;49m\u001b[43mpolyfit\u001b[49m\u001b[43m(\u001b[49m\u001b[43mx\u001b[49m\u001b[43m,\u001b[49m\u001b[43my\u001b[49m\u001b[43m,\u001b[49m\u001b[43mi\u001b[49m\u001b[43m)\u001b[49m\n\u001b[0;32m      8\u001b[0m     e\u001b[38;5;241m=\u001b[39mnp\u001b[38;5;241m.\u001b[39mpoly1d(d)\n\u001b[0;32m      9\u001b[0m     c\u001b[38;5;241m.\u001b[39mappend(((\u001b[38;5;28msum\u001b[39m((a\u001b[38;5;241m-\u001b[39me(a))\u001b[38;5;241m*\u001b[39m\u001b[38;5;241m*\u001b[39m\u001b[38;5;241m2\u001b[39m)))\u001b[38;5;241m/\u001b[39mnumber_of_samples) \u001b[38;5;66;03m# MSE formula\u001b[39;00m\n",
      "File \u001b[1;32m<__array_function__ internals>:5\u001b[0m, in \u001b[0;36mpolyfit\u001b[1;34m(*args, **kwargs)\u001b[0m\n",
      "File \u001b[1;32m~\\anaconda3\\lib\\site-packages\\numpy\\lib\\polynomial.py:628\u001b[0m, in \u001b[0;36mpolyfit\u001b[1;34m(x, y, deg, rcond, full, w, cov)\u001b[0m\n\u001b[0;32m    626\u001b[0m     \u001b[38;5;28;01mraise\u001b[39;00m \u001b[38;5;167;01mValueError\u001b[39;00m(\u001b[38;5;124m\"\u001b[39m\u001b[38;5;124mexpected deg >= 0\u001b[39m\u001b[38;5;124m\"\u001b[39m)\n\u001b[0;32m    627\u001b[0m \u001b[38;5;28;01mif\u001b[39;00m x\u001b[38;5;241m.\u001b[39mndim \u001b[38;5;241m!=\u001b[39m \u001b[38;5;241m1\u001b[39m:\n\u001b[1;32m--> 628\u001b[0m     \u001b[38;5;28;01mraise\u001b[39;00m \u001b[38;5;167;01mTypeError\u001b[39;00m(\u001b[38;5;124m\"\u001b[39m\u001b[38;5;124mexpected 1D vector for x\u001b[39m\u001b[38;5;124m\"\u001b[39m)\n\u001b[0;32m    629\u001b[0m \u001b[38;5;28;01mif\u001b[39;00m x\u001b[38;5;241m.\u001b[39msize \u001b[38;5;241m==\u001b[39m \u001b[38;5;241m0\u001b[39m:\n\u001b[0;32m    630\u001b[0m     \u001b[38;5;28;01mraise\u001b[39;00m \u001b[38;5;167;01mTypeError\u001b[39;00m(\u001b[38;5;124m\"\u001b[39m\u001b[38;5;124mexpected non-empty vector for x\u001b[39m\u001b[38;5;124m\"\u001b[39m)\n",
      "\u001b[1;31mTypeError\u001b[0m: expected 1D vector for x"
     ]
    }
   ],
   "source": [
    "\"\"\"\" QUESTION #2 Plot MSE versus order m, for m = 1, 2, 3, 4, 5, 6, 7, 8 respectively. Identify the best choice of m. \"\"\"\n",
    "\n",
    "a=x.ravel()# to make flattened array\n",
    "b=y.ravel()\n",
    "c=[]\n",
    "for i in [1,2,3,4,5,6,7,8]:\n",
    "    d=np.polyfit(x,y,i)\n",
    "    e=np.poly1d(d)\n",
    "    c.append(((sum((a-e(a))**2)))/number_of_samples) # MSE formula\n",
    "    plt.title(\"m value: %d \" %i )\n",
    "    plt.plot(x,y,'ro')\n",
    "    plt.plot(x,e(a),'bo',label = 'polynomial value[i]')\n",
    "    plt.legend()\n",
    "    plt.show()\n",
    "print(\"MSE:\",c)\n",
    "plt.plot([1,2,3,4,5,6,7,8],c)\n",
    "plt.xlabel('m')\n",
    "plt.ylabel('MSE')\n",
    "plt.show()"
   ]
  },
  {
   "cell_type": "code",
   "execution_count": null,
   "id": "be6494ac",
   "metadata": {},
   "outputs": [],
   "source": [
    "\"\"\"\" QUESTION #3 Change variable noise_scale to 200, 300, 400, 600, 800, 1000 respectively, re-run the algorithm \n",
    "and plot the polynomials with the m found in 2). Discuss the impact of noise scale to the \n",
    "accuracy of the returned parameters. [You need to plot a figure like in 1) for EACH choice of \n",
    "noise_scale.] \"\"\"\n",
    "\n",
    "\n",
    "for noise_scale in[200,300,400,500,600,800,1000]:\n",
    "    number_of_samples=50\n",
    "    x=25*(np.random.rand(number_of_samples, 1)-0.5)\n",
    "    y=5 * x + 15 * x**2 + 2 * x**3 + noise_scale*np.random.randn(number_of_samples,1)\n",
    "    a=x.ravel()\n",
    "    b=y.ravel()\n",
    "    c=np.polyfit(a,b,3) # m=3 inferred from question 2\n",
    "    d=np.poly1d(c)\n",
    "    plt.title(f'noise_scale= %d' %noise_scale)\n",
    "    plt.plot(x,y,'ro')\n",
    "    plt.plot(x,e(a),'bo',label = 'polynomial value')\n",
    "    plt.legend()\n",
    "    plt.show()\n",
    "    "
   ]
  },
  {
   "cell_type": "code",
   "execution_count": null,
   "id": "0c54bf01",
   "metadata": {},
   "outputs": [],
   "source": [
    "\"\"\"\" QUESTION #4 Change variable number_of_samples to 40, 30, 20, 10 respectively, re-ran the algorithm and plot \n",
    "the polynomials with the m found in 2). Discuss the impact of the number of samples to the \n",
    "accuracy of the returned parameters. [You need to plot a figure like in 1) for EACH choice of \n",
    "number_of_samples.]  \"\"\"\n",
    "for number_of_samples in [40,30,20,10]:\n",
    "    noise_scale = 100\n",
    "    x=25*(np.random.rand(number_of_samples, 1)-0.5)\n",
    "    y=5 * x + 15 * x**2 + 2 * x**3 + noise_scale*np.random.randn(number_of_samples,1)\n",
    "    a=x.ravel()\n",
    "    b=y.ravel()\n",
    "    c=np.polyfit(a,b,3) # m=3 inferred from question 2\n",
    "    d=np.poly1d(c)\n",
    "    plt.title(f'number of samples= %d' %number_of_samples)\n",
    "    plt.plot(x,y,'ro')\n",
    "    plt.plot(x,e(a),'bo',label = 'polynomial value')\n",
    "    plt.legend()\n",
    "    plt.show()\n",
    "\n"
   ]
  },
  {
   "cell_type": "code",
   "execution_count": null,
   "id": "ffe5276c",
   "metadata": {},
   "outputs": [],
   "source": []
  }
 ],
 "metadata": {
  "kernelspec": {
   "display_name": "Python 3 (ipykernel)",
   "language": "python",
   "name": "python3"
  },
  "language_info": {
   "codemirror_mode": {
    "name": "ipython",
    "version": 3
   },
   "file_extension": ".py",
   "mimetype": "text/x-python",
   "name": "python",
   "nbconvert_exporter": "python",
   "pygments_lexer": "ipython3",
   "version": "3.9.12"
  }
 },
 "nbformat": 4,
 "nbformat_minor": 5
}
